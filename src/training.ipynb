{
 "cells": [
  {
   "cell_type": "markdown",
   "metadata": {},
   "source": [
    "### Import modules"
   ]
  },
  {
   "cell_type": "code",
   "execution_count": 2,
   "metadata": {},
   "outputs": [
    {
     "name": "stderr",
     "output_type": "stream",
     "text": [
      "2023-01-03 21:28:52.903490: I tensorflow/core/platform/cpu_feature_guard.cc:193] This TensorFlow binary is optimized with oneAPI Deep Neural Network Library (oneDNN) to use the following CPU instructions in performance-critical operations:  AVX2 FMA\n",
      "To enable them in other operations, rebuild TensorFlow with the appropriate compiler flags.\n",
      "2023-01-03 21:28:53.624450: E tensorflow/stream_executor/cuda/cuda_blas.cc:2981] Unable to register cuBLAS factory: Attempting to register factory for plugin cuBLAS when one has already been registered\n",
      "2023-01-03 21:28:54.737487: W tensorflow/stream_executor/platform/default/dso_loader.cc:64] Could not load dynamic library 'libnvinfer.so.7'; dlerror: libnvinfer.so.7: cannot open shared object file: No such file or directory\n",
      "2023-01-03 21:28:54.737652: W tensorflow/stream_executor/platform/default/dso_loader.cc:64] Could not load dynamic library 'libnvinfer_plugin.so.7'; dlerror: libnvinfer_plugin.so.7: cannot open shared object file: No such file or directory\n",
      "2023-01-03 21:28:54.737667: W tensorflow/compiler/tf2tensorrt/utils/py_utils.cc:38] TF-TRT Warning: Cannot dlopen some TensorRT libraries. If you would like to use Nvidia GPU with TensorRT, please make sure the missing libraries mentioned above are installed properly.\n",
      "2023-01-03 21:28:56.286283: I tensorflow/stream_executor/cuda/cuda_gpu_executor.cc:966] could not open file to read NUMA node: /sys/bus/pci/devices/0000:01:00.0/numa_node\n",
      "Your kernel may have been built without NUMA support.\n",
      "2023-01-03 21:28:56.562491: I tensorflow/stream_executor/cuda/cuda_gpu_executor.cc:966] could not open file to read NUMA node: /sys/bus/pci/devices/0000:01:00.0/numa_node\n",
      "Your kernel may have been built without NUMA support.\n",
      "2023-01-03 21:28:56.562978: I tensorflow/stream_executor/cuda/cuda_gpu_executor.cc:966] could not open file to read NUMA node: /sys/bus/pci/devices/0000:01:00.0/numa_node\n",
      "Your kernel may have been built without NUMA support.\n"
     ]
    },
    {
     "name": "stdout",
     "output_type": "stream",
     "text": [
      "PhysicalDevice(name='/physical_device:GPU:0', device_type='GPU')\n"
     ]
    }
   ],
   "source": [
    "import tensorflow as tf\n",
    "\n",
    "# from https://medium.com/ibm-data-ai/memory-hygiene-with-tensorflow-during-model-training-and-deployment-for-inference-45cf49a15688\n",
    "gpus = tf.config.list_physical_devices('GPU')\n",
    "if gpus:\n",
    "    for gpu in gpus:\n",
    "        print(str(gpu))\n",
    "        tf.config.experimental.set_virtual_device_configuration(gpu,[tf.config.experimental.VirtualDeviceConfiguration(memory_limit=4096)])\n",
    "\n",
    "\n",
    "import tensorflow.keras as keras\n",
    "from keras import layers\n",
    "import numpy as np\n",
    "from dataset import *"
   ]
  },
  {
   "cell_type": "markdown",
   "metadata": {},
   "source": [
    "#### GPU config"
   ]
  },
  {
   "cell_type": "markdown",
   "metadata": {},
   "source": [
    "### Create dataset from test audio file\n"
   ]
  },
  {
   "cell_type": "code",
   "execution_count": null,
   "metadata": {},
   "outputs": [],
   "source": [
    "xf, X, spec_params = create_dataset('audio/training_audio.wav', 2, 0.5)\n",
    "X = np.abs(X)\n",
    "print(X.shape)"
   ]
  },
  {
   "attachments": {},
   "cell_type": "markdown",
   "metadata": {},
   "source": [
    "## Define model"
   ]
  },
  {
   "cell_type": "code",
   "execution_count": 9,
   "metadata": {},
   "outputs": [],
   "source": [
    "inputs = keras.Input((256, 1024))\n",
    "\n",
    "# Encoder - Conv1D gradually down to LSTM\n",
    "filter_expand = inputs\n",
    "\n",
    "for i in range(7):\n",
    "    conv = layers.Conv1D(2**i, 3, 1, padding='same')(filter_expand)\n",
    "    add = layers.Add()([filter_expand, conv])\n",
    "    conv = layers.Conv1D(2**i, 3, 1, padding='same')(add)\n",
    "    add = layers.Add()([add, conv])\n",
    "    pool = layers.MaxPool1D(2, 2, padding='valid')(add)\n",
    "    filter_expand = layers.Conv1D(2**(i+1), 3, 1, padding='same')(pool)\n",
    "\n",
    "\n",
    "\n",
    "outputs = filter_expand\n",
    "\n",
    "model = keras.Model(inputs=inputs, outputs=outputs, name=\"conv1d-lstm\")"
   ]
  },
  {
   "cell_type": "code",
   "execution_count": 10,
   "metadata": {},
   "outputs": [
    {
     "name": "stdout",
     "output_type": "stream",
     "text": [
      "Model: \"conv1d-lstm\"\n",
      "__________________________________________________________________________________________________\n",
      " Layer (type)                   Output Shape         Param #     Connected to                     \n",
      "==================================================================================================\n",
      " input_4 (InputLayer)           [(None, 256, 1024)]  0           []                               \n",
      "                                                                                                  \n",
      " conv1d_24 (Conv1D)             (None, 256, 1)       3073        ['input_4[0][0]']                \n",
      "                                                                                                  \n",
      " add_17 (Add)                   (None, 256, 1024)    0           ['input_4[0][0]',                \n",
      "                                                                  'conv1d_24[0][0]']              \n",
      "                                                                                                  \n",
      " conv1d_25 (Conv1D)             (None, 256, 1)       3073        ['add_17[0][0]']                 \n",
      "                                                                                                  \n",
      " add_18 (Add)                   (None, 256, 1024)    0           ['add_17[0][0]',                 \n",
      "                                                                  'conv1d_25[0][0]']              \n",
      "                                                                                                  \n",
      " max_pooling1d_7 (MaxPooling1D)  (None, 128, 1024)   0           ['add_18[0][0]']                 \n",
      "                                                                                                  \n",
      " conv1d_26 (Conv1D)             (None, 128, 2)       6146        ['max_pooling1d_7[0][0]']        \n",
      "                                                                                                  \n",
      " conv1d_27 (Conv1D)             (None, 128, 2)       14          ['conv1d_26[0][0]']              \n",
      "                                                                                                  \n",
      " add_19 (Add)                   (None, 128, 2)       0           ['conv1d_26[0][0]',              \n",
      "                                                                  'conv1d_27[0][0]']              \n",
      "                                                                                                  \n",
      " conv1d_28 (Conv1D)             (None, 128, 2)       14          ['add_19[0][0]']                 \n",
      "                                                                                                  \n",
      " add_20 (Add)                   (None, 128, 2)       0           ['add_19[0][0]',                 \n",
      "                                                                  'conv1d_28[0][0]']              \n",
      "                                                                                                  \n",
      " max_pooling1d_8 (MaxPooling1D)  (None, 64, 2)       0           ['add_20[0][0]']                 \n",
      "                                                                                                  \n",
      " conv1d_29 (Conv1D)             (None, 64, 4)        28          ['max_pooling1d_8[0][0]']        \n",
      "                                                                                                  \n",
      " conv1d_30 (Conv1D)             (None, 64, 4)        52          ['conv1d_29[0][0]']              \n",
      "                                                                                                  \n",
      " add_21 (Add)                   (None, 64, 4)        0           ['conv1d_29[0][0]',              \n",
      "                                                                  'conv1d_30[0][0]']              \n",
      "                                                                                                  \n",
      " conv1d_31 (Conv1D)             (None, 64, 4)        52          ['add_21[0][0]']                 \n",
      "                                                                                                  \n",
      " add_22 (Add)                   (None, 64, 4)        0           ['add_21[0][0]',                 \n",
      "                                                                  'conv1d_31[0][0]']              \n",
      "                                                                                                  \n",
      " max_pooling1d_9 (MaxPooling1D)  (None, 32, 4)       0           ['add_22[0][0]']                 \n",
      "                                                                                                  \n",
      " conv1d_32 (Conv1D)             (None, 32, 8)        104         ['max_pooling1d_9[0][0]']        \n",
      "                                                                                                  \n",
      " conv1d_33 (Conv1D)             (None, 32, 8)        200         ['conv1d_32[0][0]']              \n",
      "                                                                                                  \n",
      " add_23 (Add)                   (None, 32, 8)        0           ['conv1d_32[0][0]',              \n",
      "                                                                  'conv1d_33[0][0]']              \n",
      "                                                                                                  \n",
      " conv1d_34 (Conv1D)             (None, 32, 8)        200         ['add_23[0][0]']                 \n",
      "                                                                                                  \n",
      " add_24 (Add)                   (None, 32, 8)        0           ['add_23[0][0]',                 \n",
      "                                                                  'conv1d_34[0][0]']              \n",
      "                                                                                                  \n",
      " max_pooling1d_10 (MaxPooling1D  (None, 16, 8)       0           ['add_24[0][0]']                 \n",
      " )                                                                                                \n",
      "                                                                                                  \n",
      " conv1d_35 (Conv1D)             (None, 16, 16)       400         ['max_pooling1d_10[0][0]']       \n",
      "                                                                                                  \n",
      " conv1d_36 (Conv1D)             (None, 16, 16)       784         ['conv1d_35[0][0]']              \n",
      "                                                                                                  \n",
      " add_25 (Add)                   (None, 16, 16)       0           ['conv1d_35[0][0]',              \n",
      "                                                                  'conv1d_36[0][0]']              \n",
      "                                                                                                  \n",
      " conv1d_37 (Conv1D)             (None, 16, 16)       784         ['add_25[0][0]']                 \n",
      "                                                                                                  \n",
      " add_26 (Add)                   (None, 16, 16)       0           ['add_25[0][0]',                 \n",
      "                                                                  'conv1d_37[0][0]']              \n",
      "                                                                                                  \n",
      " max_pooling1d_11 (MaxPooling1D  (None, 8, 16)       0           ['add_26[0][0]']                 \n",
      " )                                                                                                \n",
      "                                                                                                  \n",
      " conv1d_38 (Conv1D)             (None, 8, 32)        1568        ['max_pooling1d_11[0][0]']       \n",
      "                                                                                                  \n",
      " conv1d_39 (Conv1D)             (None, 8, 32)        3104        ['conv1d_38[0][0]']              \n",
      "                                                                                                  \n",
      " add_27 (Add)                   (None, 8, 32)        0           ['conv1d_38[0][0]',              \n",
      "                                                                  'conv1d_39[0][0]']              \n",
      "                                                                                                  \n",
      " conv1d_40 (Conv1D)             (None, 8, 32)        3104        ['add_27[0][0]']                 \n",
      "                                                                                                  \n",
      " add_28 (Add)                   (None, 8, 32)        0           ['add_27[0][0]',                 \n",
      "                                                                  'conv1d_40[0][0]']              \n",
      "                                                                                                  \n",
      " max_pooling1d_12 (MaxPooling1D  (None, 4, 32)       0           ['add_28[0][0]']                 \n",
      " )                                                                                                \n",
      "                                                                                                  \n",
      " conv1d_41 (Conv1D)             (None, 4, 64)        6208        ['max_pooling1d_12[0][0]']       \n",
      "                                                                                                  \n",
      " conv1d_42 (Conv1D)             (None, 4, 64)        12352       ['conv1d_41[0][0]']              \n",
      "                                                                                                  \n",
      " add_29 (Add)                   (None, 4, 64)        0           ['conv1d_41[0][0]',              \n",
      "                                                                  'conv1d_42[0][0]']              \n",
      "                                                                                                  \n",
      " conv1d_43 (Conv1D)             (None, 4, 64)        12352       ['add_29[0][0]']                 \n",
      "                                                                                                  \n",
      " add_30 (Add)                   (None, 4, 64)        0           ['add_29[0][0]',                 \n",
      "                                                                  'conv1d_43[0][0]']              \n",
      "                                                                                                  \n",
      " max_pooling1d_13 (MaxPooling1D  (None, 2, 64)       0           ['add_30[0][0]']                 \n",
      " )                                                                                                \n",
      "                                                                                                  \n",
      " conv1d_44 (Conv1D)             (None, 2, 128)       24704       ['max_pooling1d_13[0][0]']       \n",
      "                                                                                                  \n",
      "==================================================================================================\n",
      "Total params: 78,316\n",
      "Trainable params: 78,316\n",
      "Non-trainable params: 0\n",
      "__________________________________________________________________________________________________\n"
     ]
    }
   ],
   "source": [
    "model.compile(optimizer='adam', loss='binary_crossentropy')\n",
    "model.summary()"
   ]
  },
  {
   "cell_type": "code",
   "execution_count": null,
   "metadata": {},
   "outputs": [],
   "source": [
    "X_fit = tf.expand_dims(X, -1)\n",
    "X_fit = (X_fit - np.min(X_fit))/(np.max(X_fit) - np.min(X_fit))\n",
    "\n",
    "print(\"==================\")\n",
    "print(X_fit.shape)\n",
    "print(\"==================\")\n"
   ]
  },
  {
   "cell_type": "code",
   "execution_count": null,
   "metadata": {},
   "outputs": [],
   "source": [
    "model.load_weights(\"cnn_autoencoder\")"
   ]
  },
  {
   "cell_type": "code",
   "execution_count": null,
   "metadata": {},
   "outputs": [],
   "source": [
    "model.fit(X_fit, X_fit,\n",
    "        epochs=200,\n",
    "        shuffle=True\n",
    ")"
   ]
  },
  {
   "attachments": {},
   "cell_type": "markdown",
   "metadata": {},
   "source": [
    "### COMPARE SPECTROGRAMS IN IMAGES\n"
   ]
  },
  {
   "cell_type": "code",
   "execution_count": null,
   "metadata": {},
   "outputs": [],
   "source": [
    "import matplotlib.pyplot as plt"
   ]
  },
  {
   "cell_type": "code",
   "execution_count": null,
   "metadata": {},
   "outputs": [],
   "source": [
    "x_example = X[0]\n",
    "\n",
    "plt.imsave(\"INPUT_EXAMPLE.png\", x_example)\n",
    "x_example = np.reshape(x_example, (1, x_example.shape[0], x_example.shape[1], 1))\n",
    "print(x_example.shape)\n",
    "prediction = model.predict(x_example)\n",
    "plt.imsave(\"OUTPUT_EXAMPLE.png\", prediction[0, :, :, 0])"
   ]
  },
  {
   "cell_type": "code",
   "execution_count": null,
   "metadata": {},
   "outputs": [],
   "source": [
    "model.save(\"cnn_autoencoder\")"
   ]
  },
  {
   "attachments": {},
   "cell_type": "markdown",
   "metadata": {},
   "source": [
    "### Save to audio file"
   ]
  },
  {
   "cell_type": "code",
   "execution_count": null,
   "metadata": {},
   "outputs": [],
   "source": [
    "import importlib\n",
    "import postprocessing"
   ]
  },
  {
   "cell_type": "code",
   "execution_count": null,
   "metadata": {},
   "outputs": [],
   "source": [
    "importlib.reload(postprocessing)\n",
    "out_samp, out_win, out_stride = spec_params\n",
    "audio = postprocessing.reverse_spectrogram(prediction[0, :, :, 0].transpose(), out_samp, out_win, out_stride)\n",
    "audio = np.reshape(audio, (-1, 1))\n",
    "f_out = open_write(\"test_output_cnn.wav\", 1, 2, 44100)\n",
    "write(f_out, audio)"
   ]
  },
  {
   "cell_type": "code",
   "execution_count": null,
   "metadata": {},
   "outputs": [],
   "source": []
  }
 ],
 "metadata": {
  "kernelspec": {
   "display_name": "Python 3.8.13 ('tf')",
   "language": "python",
   "name": "python3"
  },
  "language_info": {
   "codemirror_mode": {
    "name": "ipython",
    "version": 3
   },
   "file_extension": ".py",
   "mimetype": "text/x-python",
   "name": "python",
   "nbconvert_exporter": "python",
   "pygments_lexer": "ipython3",
   "version": "3.8.13"
  },
  "orig_nbformat": 4,
  "vscode": {
   "interpreter": {
    "hash": "3cc8f092f77316f6fee317f7cf3b29c6fa2dc86058ef2ab119f209826031bc14"
   }
  }
 },
 "nbformat": 4,
 "nbformat_minor": 2
}
