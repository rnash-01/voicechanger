{
 "cells": [
  {
   "cell_type": "markdown",
   "metadata": {},
   "source": [
    "### Import modules"
   ]
  },
  {
   "cell_type": "code",
   "execution_count": 1,
   "metadata": {},
   "outputs": [
    {
     "name": "stderr",
     "output_type": "stream",
     "text": [
      "2022-09-30 20:13:41.722706: I tensorflow/core/platform/cpu_feature_guard.cc:193] This TensorFlow binary is optimized with oneAPI Deep Neural Network Library (oneDNN) to use the following CPU instructions in performance-critical operations:  AVX2 FMA\n",
      "To enable them in other operations, rebuild TensorFlow with the appropriate compiler flags.\n",
      "2022-09-30 20:13:42.506018: W tensorflow/stream_executor/platform/default/dso_loader.cc:64] Could not load dynamic library 'libcudart.so.11.0'; dlerror: libcudart.so.11.0: cannot open shared object file: No such file or directory\n",
      "2022-09-30 20:13:42.506485: I tensorflow/stream_executor/cuda/cudart_stub.cc:29] Ignore above cudart dlerror if you do not have a GPU set up on your machine.\n",
      "2022-09-30 20:13:42.638891: E tensorflow/stream_executor/cuda/cuda_blas.cc:2981] Unable to register cuBLAS factory: Attempting to register factory for plugin cuBLAS when one has already been registered\n",
      "2022-09-30 20:13:46.446303: W tensorflow/stream_executor/platform/default/dso_loader.cc:64] Could not load dynamic library 'libnvinfer.so.7'; dlerror: libnvinfer.so.7: cannot open shared object file: No such file or directory\n",
      "2022-09-30 20:13:46.446544: W tensorflow/stream_executor/platform/default/dso_loader.cc:64] Could not load dynamic library 'libnvinfer_plugin.so.7'; dlerror: libnvinfer_plugin.so.7: cannot open shared object file: No such file or directory\n",
      "2022-09-30 20:13:46.446560: W tensorflow/compiler/tf2tensorrt/utils/py_utils.cc:38] TF-TRT Warning: Cannot dlopen some TensorRT libraries. If you would like to use Nvidia GPU with TensorRT, please make sure the missing libraries mentioned above are installed properly.\n"
     ]
    }
   ],
   "source": [
    "import tensorflow as tf\n",
    "import tensorflow.keras as keras\n",
    "import numpy as np\n",
    "from dataset import *"
   ]
  },
  {
   "cell_type": "markdown",
   "metadata": {},
   "source": [
    "### Create dataset from test audio file\n"
   ]
  },
  {
   "cell_type": "code",
   "execution_count": 2,
   "metadata": {},
   "outputs": [
    {
     "name": "stdout",
     "output_type": "stream",
     "text": [
      "(116, 1024, 169)\n"
     ]
    }
   ],
   "source": [
    "xf, X = create_dataset('audio/training_audio.wav', 2, 0.5)\n",
    "print(X.shape)"
   ]
  },
  {
   "cell_type": "markdown",
   "metadata": {},
   "source": [
    "### Define some 'blocks' of NN code"
   ]
  },
  {
   "cell_type": "code",
   "execution_count": 73,
   "metadata": {},
   "outputs": [],
   "source": [
    "def residual_block(inputs, input_shape, channels, block_name='ResBlock'):\n",
    "    \n",
    "    conv2d_1 = keras.layers.Conv2D(channels, kernel_size=(10, 1), padding='same', input_shape=input_shape)(inputs)\n",
    "\n",
    "    batch_norm_1 = keras.layers.BatchNormalization()(conv2d_1)\n",
    "    activation_1 = keras.layers.Activation('relu')(batch_norm_1)\n",
    "\n",
    "    conv2d_2 = keras.layers.Conv2D(channels, kernel_size=10, padding='same')(activation_1)\n",
    "    batch_norm_2 = keras.layers.BatchNormalization()(conv2d_2)\n",
    "\n",
    "    add = keras.layers.Add()([batch_norm_2, inputs])\n",
    "    activation_2 = keras.layers.Activation('relu')(add)\n",
    "    return activation_2\n",
    "\n",
    "def downscale_block(inputs, num_filters, block_name='DownscaleBlock'):\n",
    "\n",
    "    downscale = keras.layers.Conv2D(num_filters, kernel_size=(10, 1), padding='same')(inputs)\n",
    "    batch_norm = keras.layers.BatchNormalization()(downscale)\n",
    "    activation = keras.layers.Activation('relu')(batch_norm)\n",
    "    \n",
    "    return activation\n",
    "\n",
    "def upscale_block(inputs, target_size, num_filters, block_name='UpscaleBlock'):\n",
    "    \n",
    "    _, height, timesteps, channels = inputs.shape\n",
    "    upscale = keras.layers.Conv2DTranspose(num_filters, (target_size - height + 1, 1))(inputs)\n",
    "    batch_norm = keras.layers.BatchNormalization()(upscale)\n",
    "    activation = keras.layers.Activation('relu')(batch_norm)\n",
    "\n",
    "    return activation"
   ]
  },
  {
   "cell_type": "markdown",
   "metadata": {},
   "source": [
    "### Define and train model"
   ]
  },
  {
   "cell_type": "code",
   "execution_count": 108,
   "metadata": {},
   "outputs": [],
   "source": [
    "def encoder_lstm_decoder(spec_shape, start_filters):\n",
    "    input_length =  spec_shape[0]\n",
    "    time_steps = spec_shape[1]\n",
    "    input_shape = (input_length, time_steps, 1)\n",
    "\n",
    "    # Encoder\n",
    "    inputs = keras.layers.Input(input_shape)                                                                    # input_length is power of two\n",
    "\n",
    "    res_block_1 = residual_block(inputs, input_shape, 1, 'ResBlock1')\n",
    "    max_pool_1 = keras.layers.MaxPool2D(pool_size=(2,1))(res_block_1)                 # (input_length/2,)\n",
    "    down_scale_1 = downscale_block(max_pool_1, start_filters, 'DownscaleBlock1')\n",
    "\n",
    "    res_block_2 = residual_block(down_scale_1, (input_length//2, time_steps, start_filters), start_filters, 'ResBlock2')\n",
    "    max_pool_2 = keras.layers.MaxPool2D(pool_size=(2,1))(res_block_2)                 # (input_length/2,)\n",
    "    down_scale_2 = downscale_block(max_pool_2, start_filters * 2, 'DownscaleBlock2')\n",
    "\n",
    "    res_block_3 = residual_block(down_scale_2, (input_length//4, time_steps, start_filters*2), start_filters * 2, 'ResBlock3')\n",
    "    max_pool_3 = keras.layers.MaxPool2D(pool_size=(2,1))(res_block_2)                 # (input_length/2,)\n",
    "    down_scale_3 = downscale_block(max_pool_3, start_filters * 4, 'DownscaleBlock3')\n",
    "\n",
    "    res_block_4 = residual_block(down_scale_3, (input_length//8, time_steps, start_filters*4), start_filters * 4, 'ResBlock4')\n",
    "    max_pool_4 = keras.layers.MaxPool2D(pool_size=(2,1))(res_block_4)                 # (input_length/2,)\n",
    "    down_scale_4 = downscale_block(max_pool_4, start_filters * 8, 'DownscaleBlock4')\n",
    "\n",
    "    # Decoder\n",
    "    _, height, timesteps, channels = down_scale_4.shape\n",
    "    down_scale_4_flat = tf.reshape(down_scale_4, (-1, height * channels, timesteps))\n",
    "    lstm = keras.layers.LSTM(input_length//16, return_sequences=True)(down_scale_4_flat)\n",
    "\n",
    "    lstm_unflatten = tf.reshape(lstm, (-1, height, timesteps, channels))\n",
    "\n",
    "    upscale_1 = upscale_block(lstm_unflatten, input_length//8, start_filters * 4, 'Upscale1')\n",
    "    upscale_2 = upscale_block(upscale_1, input_length//4, start_filters * 2, 'Upscale2')\n",
    "    upscale_3 = upscale_block(upscale_2, input_length//2, start_filters * 1, 'Upscale3')\n",
    "    upscale_4 = upscale_block(upscale_3, input_length, start_filters, 'Upscale4')\n",
    "\n",
    "    _, height, timesteps, channels = upscale_4.shape\n",
    "    outputs = tf.reshape(upscale_4, (-1, height, timesteps))\n",
    "    \n",
    "    # outputs = keras.layers.Dense(input_length, activation='sigmoid')(upscale_4_flatten)\n",
    "    \n",
    "    model = keras.Model(inputs=inputs, outputs=outputs)\n",
    "    return model"
   ]
  },
  {
   "cell_type": "code",
   "execution_count": 110,
   "metadata": {},
   "outputs": [
    {
     "name": "stdout",
     "output_type": "stream",
     "text": [
      "Model: \"model_21\"\n",
      "__________________________________________________________________________________________________\n",
      " Layer (type)                   Output Shape         Param #     Connected to                     \n",
      "==================================================================================================\n",
      " input_52 (InputLayer)          [(None, 1024, 169,   0           []                               \n",
      "                                1)]                                                               \n",
      "                                                                                                  \n",
      " conv2d_521 (Conv2D)            (None, 1024, 169, 1  11          ['input_52[0][0]']               \n",
      "                                )                                                                 \n",
      "                                                                                                  \n",
      " batch_normalization_609 (Batch  (None, 1024, 169, 1  4          ['conv2d_521[0][0]']             \n",
      " Normalization)                 )                                                                 \n",
      "                                                                                                  \n",
      " activation_603 (Activation)    (None, 1024, 169, 1  0           ['batch_normalization_609[0][0]']\n",
      "                                )                                                                 \n",
      "                                                                                                  \n",
      " conv2d_522 (Conv2D)            (None, 1024, 169, 1  101         ['activation_603[0][0]']         \n",
      "                                )                                                                 \n",
      "                                                                                                  \n",
      " batch_normalization_610 (Batch  (None, 1024, 169, 1  4          ['conv2d_522[0][0]']             \n",
      " Normalization)                 )                                                                 \n",
      "                                                                                                  \n",
      " add_177 (Add)                  (None, 1024, 169, 1  0           ['batch_normalization_610[0][0]',\n",
      "                                )                                 'input_52[0][0]']               \n",
      "                                                                                                  \n",
      " activation_604 (Activation)    (None, 1024, 169, 1  0           ['add_177[0][0]']                \n",
      "                                )                                                                 \n",
      "                                                                                                  \n",
      " max_pooling2d_167 (MaxPooling2  (None, 512, 169, 1)  0          ['activation_604[0][0]']         \n",
      " D)                                                                                               \n",
      "                                                                                                  \n",
      " conv2d_523 (Conv2D)            (None, 512, 169, 8)  88          ['max_pooling2d_167[0][0]']      \n",
      "                                                                                                  \n",
      " batch_normalization_611 (Batch  (None, 512, 169, 8)  32         ['conv2d_523[0][0]']             \n",
      " Normalization)                                                                                   \n",
      "                                                                                                  \n",
      " activation_605 (Activation)    (None, 512, 169, 8)  0           ['batch_normalization_611[0][0]']\n",
      "                                                                                                  \n",
      " conv2d_524 (Conv2D)            (None, 512, 169, 8)  648         ['activation_605[0][0]']         \n",
      "                                                                                                  \n",
      " batch_normalization_612 (Batch  (None, 512, 169, 8)  32         ['conv2d_524[0][0]']             \n",
      " Normalization)                                                                                   \n",
      "                                                                                                  \n",
      " activation_606 (Activation)    (None, 512, 169, 8)  0           ['batch_normalization_612[0][0]']\n",
      "                                                                                                  \n",
      " conv2d_525 (Conv2D)            (None, 512, 169, 8)  6408        ['activation_606[0][0]']         \n",
      "                                                                                                  \n",
      " batch_normalization_613 (Batch  (None, 512, 169, 8)  32         ['conv2d_525[0][0]']             \n",
      " Normalization)                                                                                   \n",
      "                                                                                                  \n",
      " add_178 (Add)                  (None, 512, 169, 8)  0           ['batch_normalization_613[0][0]',\n",
      "                                                                  'activation_605[0][0]']         \n",
      "                                                                                                  \n",
      " activation_607 (Activation)    (None, 512, 169, 8)  0           ['add_178[0][0]']                \n",
      "                                                                                                  \n",
      " max_pooling2d_169 (MaxPooling2  (None, 256, 169, 8)  0          ['activation_607[0][0]']         \n",
      " D)                                                                                               \n",
      "                                                                                                  \n",
      " conv2d_529 (Conv2D)            (None, 256, 169, 32  2592        ['max_pooling2d_169[0][0]']      \n",
      "                                )                                                                 \n",
      "                                                                                                  \n",
      " batch_normalization_617 (Batch  (None, 256, 169, 32  128        ['conv2d_529[0][0]']             \n",
      " Normalization)                 )                                                                 \n",
      "                                                                                                  \n",
      " activation_611 (Activation)    (None, 256, 169, 32  0           ['batch_normalization_617[0][0]']\n",
      "                                )                                                                 \n",
      "                                                                                                  \n",
      " conv2d_530 (Conv2D)            (None, 256, 169, 32  10272       ['activation_611[0][0]']         \n",
      "                                )                                                                 \n",
      "                                                                                                  \n",
      " batch_normalization_618 (Batch  (None, 256, 169, 32  128        ['conv2d_530[0][0]']             \n",
      " Normalization)                 )                                                                 \n",
      "                                                                                                  \n",
      " activation_612 (Activation)    (None, 256, 169, 32  0           ['batch_normalization_618[0][0]']\n",
      "                                )                                                                 \n",
      "                                                                                                  \n",
      " conv2d_531 (Conv2D)            (None, 256, 169, 32  102432      ['activation_612[0][0]']         \n",
      "                                )                                                                 \n",
      "                                                                                                  \n",
      " batch_normalization_619 (Batch  (None, 256, 169, 32  128        ['conv2d_531[0][0]']             \n",
      " Normalization)                 )                                                                 \n",
      "                                                                                                  \n",
      " add_180 (Add)                  (None, 256, 169, 32  0           ['batch_normalization_619[0][0]',\n",
      "                                )                                 'activation_611[0][0]']         \n",
      "                                                                                                  \n",
      " activation_613 (Activation)    (None, 256, 169, 32  0           ['add_180[0][0]']                \n",
      "                                )                                                                 \n",
      "                                                                                                  \n",
      " max_pooling2d_170 (MaxPooling2  (None, 128, 169, 32  0          ['activation_613[0][0]']         \n",
      " D)                             )                                                                 \n",
      "                                                                                                  \n",
      " conv2d_532 (Conv2D)            (None, 128, 169, 64  20544       ['max_pooling2d_170[0][0]']      \n",
      "                                )                                                                 \n",
      "                                                                                                  \n",
      " batch_normalization_620 (Batch  (None, 128, 169, 64  256        ['conv2d_532[0][0]']             \n",
      " Normalization)                 )                                                                 \n",
      "                                                                                                  \n",
      " activation_614 (Activation)    (None, 128, 169, 64  0           ['batch_normalization_620[0][0]']\n",
      "                                )                                                                 \n",
      "                                                                                                  \n",
      " tf.reshape_76 (TFOpLambda)     (None, 8192, 169)    0           ['activation_614[0][0]']         \n",
      "                                                                                                  \n",
      " lstm_33 (LSTM)                 (None, 8192, 64)     59904       ['tf.reshape_76[0][0]']          \n",
      "                                                                                                  \n",
      " tf.reshape_77 (TFOpLambda)     (None, 128, 169, 64  0           ['lstm_33[0][0]']                \n",
      "                                )                                                                 \n",
      "                                                                                                  \n",
      " conv2d_transpose_90 (Conv2DTra  (None, 128, 169, 32  2080       ['tf.reshape_77[0][0]']          \n",
      " nspose)                        )                                                                 \n",
      "                                                                                                  \n",
      " batch_normalization_621 (Batch  (None, 128, 169, 32  128        ['conv2d_transpose_90[0][0]']    \n",
      " Normalization)                 )                                                                 \n",
      "                                                                                                  \n",
      " activation_615 (Activation)    (None, 128, 169, 32  0           ['batch_normalization_621[0][0]']\n",
      "                                )                                                                 \n",
      "                                                                                                  \n",
      " conv2d_transpose_91 (Conv2DTra  (None, 256, 169, 16  66064      ['activation_615[0][0]']         \n",
      " nspose)                        )                                                                 \n",
      "                                                                                                  \n",
      " batch_normalization_622 (Batch  (None, 256, 169, 16  64         ['conv2d_transpose_91[0][0]']    \n",
      " Normalization)                 )                                                                 \n",
      "                                                                                                  \n",
      " activation_616 (Activation)    (None, 256, 169, 16  0           ['batch_normalization_622[0][0]']\n",
      "                                )                                                                 \n",
      "                                                                                                  \n",
      " conv2d_transpose_92 (Conv2DTra  (None, 512, 169, 8)  32904      ['activation_616[0][0]']         \n",
      " nspose)                                                                                          \n",
      "                                                                                                  \n",
      " batch_normalization_623 (Batch  (None, 512, 169, 8)  32         ['conv2d_transpose_92[0][0]']    \n",
      " Normalization)                                                                                   \n",
      "                                                                                                  \n",
      " activation_617 (Activation)    (None, 512, 169, 8)  0           ['batch_normalization_623[0][0]']\n",
      "                                                                                                  \n",
      " conv2d_transpose_93 (Conv2DTra  (None, 1024, 169, 8  32840      ['activation_617[0][0]']         \n",
      " nspose)                        )                                                                 \n",
      "                                                                                                  \n",
      " batch_normalization_624 (Batch  (None, 1024, 169, 8  32         ['conv2d_transpose_93[0][0]']    \n",
      " Normalization)                 )                                                                 \n",
      "                                                                                                  \n",
      " activation_618 (Activation)    (None, 1024, 169, 8  0           ['batch_normalization_624[0][0]']\n",
      "                                )                                                                 \n",
      "                                                                                                  \n",
      " tf.reshape_78 (TFOpLambda)     (None, 1024, 169)    0           ['activation_618[0][0]']         \n",
      "                                                                                                  \n",
      "==================================================================================================\n",
      "Total params: 337,888\n",
      "Trainable params: 337,388\n",
      "Non-trainable params: 500\n",
      "__________________________________________________________________________________________________\n",
      "None\n"
     ]
    },
    {
     "ename": "InvalidArgumentError",
     "evalue": "Graph execution error:\n\nDetected at node 'model_21/tf.reshape_77/Reshape' defined at (most recent call last):\n    File \"/usr/lib/python3.8/runpy.py\", line 194, in _run_module_as_main\n      return _run_code(code, main_globals, None,\n    File \"/usr/lib/python3.8/runpy.py\", line 87, in _run_code\n      exec(code, run_globals)\n    File \"/home/nash/.local/lib/python3.8/site-packages/ipykernel_launcher.py\", line 17, in <module>\n      app.launch_new_instance()\n    File \"/home/nash/.local/lib/python3.8/site-packages/traitlets/config/application.py\", line 846, in launch_instance\n      app.start()\n    File \"/home/nash/.local/lib/python3.8/site-packages/ipykernel/kernelapp.py\", line 712, in start\n      self.io_loop.start()\n    File \"/home/nash/.local/lib/python3.8/site-packages/tornado/platform/asyncio.py\", line 199, in start\n      self.asyncio_loop.run_forever()\n    File \"/usr/lib/python3.8/asyncio/base_events.py\", line 570, in run_forever\n      self._run_once()\n    File \"/usr/lib/python3.8/asyncio/base_events.py\", line 1859, in _run_once\n      handle._run()\n    File \"/usr/lib/python3.8/asyncio/events.py\", line 81, in _run\n      self._context.run(self._callback, *self._args)\n    File \"/home/nash/.local/lib/python3.8/site-packages/ipykernel/kernelbase.py\", line 504, in dispatch_queue\n      await self.process_one()\n    File \"/home/nash/.local/lib/python3.8/site-packages/ipykernel/kernelbase.py\", line 493, in process_one\n      await dispatch(*args)\n    File \"/home/nash/.local/lib/python3.8/site-packages/ipykernel/kernelbase.py\", line 400, in dispatch_shell\n      await result\n    File \"/home/nash/.local/lib/python3.8/site-packages/ipykernel/kernelbase.py\", line 724, in execute_request\n      reply_content = await reply_content\n    File \"/home/nash/.local/lib/python3.8/site-packages/ipykernel/ipkernel.py\", line 390, in do_execute\n      res = shell.run_cell(code, store_history=store_history, silent=silent)\n    File \"/home/nash/.local/lib/python3.8/site-packages/ipykernel/zmqshell.py\", line 528, in run_cell\n      return super().run_cell(*args, **kwargs)\n    File \"/home/nash/.local/lib/python3.8/site-packages/IPython/core/interactiveshell.py\", line 2863, in run_cell\n      result = self._run_cell(\n    File \"/home/nash/.local/lib/python3.8/site-packages/IPython/core/interactiveshell.py\", line 2909, in _run_cell\n      return runner(coro)\n    File \"/home/nash/.local/lib/python3.8/site-packages/IPython/core/async_helpers.py\", line 129, in _pseudo_sync_runner\n      coro.send(None)\n    File \"/home/nash/.local/lib/python3.8/site-packages/IPython/core/interactiveshell.py\", line 3106, in run_cell_async\n      has_raised = await self.run_ast_nodes(code_ast.body, cell_name,\n    File \"/home/nash/.local/lib/python3.8/site-packages/IPython/core/interactiveshell.py\", line 3309, in run_ast_nodes\n      if await self.run_code(code, result, async_=asy):\n    File \"/home/nash/.local/lib/python3.8/site-packages/IPython/core/interactiveshell.py\", line 3369, in run_code\n      exec(code_obj, self.user_global_ns, self.user_ns)\n    File \"/tmp/ipykernel_628/3825736322.py\", line 7, in <cell line: 7>\n      model.fit(x=X, y=X, epochs=1)\n    File \"/home/nash/.local/lib/python3.8/site-packages/keras/utils/traceback_utils.py\", line 65, in error_handler\n      return fn(*args, **kwargs)\n    File \"/home/nash/.local/lib/python3.8/site-packages/keras/engine/training.py\", line 1564, in fit\n      tmp_logs = self.train_function(iterator)\n    File \"/home/nash/.local/lib/python3.8/site-packages/keras/engine/training.py\", line 1160, in train_function\n      return step_function(self, iterator)\n    File \"/home/nash/.local/lib/python3.8/site-packages/keras/engine/training.py\", line 1146, in step_function\n      outputs = model.distribute_strategy.run(run_step, args=(data,))\n    File \"/home/nash/.local/lib/python3.8/site-packages/keras/engine/training.py\", line 1135, in run_step\n      outputs = model.train_step(data)\n    File \"/home/nash/.local/lib/python3.8/site-packages/keras/engine/training.py\", line 993, in train_step\n      y_pred = self(x, training=True)\n    File \"/home/nash/.local/lib/python3.8/site-packages/keras/utils/traceback_utils.py\", line 65, in error_handler\n      return fn(*args, **kwargs)\n    File \"/home/nash/.local/lib/python3.8/site-packages/keras/engine/training.py\", line 557, in __call__\n      return super().__call__(*args, **kwargs)\n    File \"/home/nash/.local/lib/python3.8/site-packages/keras/utils/traceback_utils.py\", line 65, in error_handler\n      return fn(*args, **kwargs)\n    File \"/home/nash/.local/lib/python3.8/site-packages/keras/engine/base_layer.py\", line 1097, in __call__\n      outputs = call_fn(inputs, *args, **kwargs)\n    File \"/home/nash/.local/lib/python3.8/site-packages/keras/utils/traceback_utils.py\", line 96, in error_handler\n      return fn(*args, **kwargs)\n    File \"/home/nash/.local/lib/python3.8/site-packages/keras/engine/functional.py\", line 510, in call\n      return self._run_internal_graph(inputs, training=training, mask=mask)\n    File \"/home/nash/.local/lib/python3.8/site-packages/keras/engine/functional.py\", line 667, in _run_internal_graph\n      outputs = node.layer(*args, **kwargs)\n    File \"/home/nash/.local/lib/python3.8/site-packages/keras/utils/traceback_utils.py\", line 65, in error_handler\n      return fn(*args, **kwargs)\n    File \"/home/nash/.local/lib/python3.8/site-packages/keras/engine/base_layer.py\", line 1097, in __call__\n      outputs = call_fn(inputs, *args, **kwargs)\n    File \"/home/nash/.local/lib/python3.8/site-packages/keras/utils/traceback_utils.py\", line 96, in error_handler\n      return fn(*args, **kwargs)\n    File \"/home/nash/.local/lib/python3.8/site-packages/keras/layers/core/tf_op_layer.py\", line 242, in _call_wrapper\n      return self._call_wrapper(*args, **kwargs)\n    File \"/home/nash/.local/lib/python3.8/site-packages/keras/layers/core/tf_op_layer.py\", line 279, in _call_wrapper\n      result = self.function(*args, **kwargs)\nNode: 'model_21/tf.reshape_77/Reshape'\nInput to reshape is a tensor with 16777216 values, but the requested shape requires a multiple of 1384448\n\t [[{{node model_21/tf.reshape_77/Reshape}}]] [Op:__inference_train_function_79118]",
     "output_type": "error",
     "traceback": [
      "\u001b[0;31m---------------------------------------------------------------------------\u001b[0m",
      "\u001b[0;31mInvalidArgumentError\u001b[0m                      Traceback (most recent call last)",
      "\u001b[1;32m/home/nash/Projects/voicechanger/src/training.ipynb Cell 9\u001b[0m in \u001b[0;36m<cell line: 7>\u001b[0;34m()\u001b[0m\n\u001b[1;32m      <a href='vscode-notebook-cell://wsl%2Bubuntu/home/nash/Projects/voicechanger/src/training.ipynb#X11sdnNjb2RlLXJlbW90ZQ%3D%3D?line=1'>2</a>\u001b[0m model\u001b[39m.\u001b[39mcompile(optimizer\u001b[39m=\u001b[39mtf\u001b[39m.\u001b[39mkeras\u001b[39m.\u001b[39moptimizers\u001b[39m.\u001b[39mAdam(learning_rate\u001b[39m=\u001b[39m\u001b[39m1e-3\u001b[39m),\n\u001b[1;32m      <a href='vscode-notebook-cell://wsl%2Bubuntu/home/nash/Projects/voicechanger/src/training.ipynb#X11sdnNjb2RlLXJlbW90ZQ%3D%3D?line=2'>3</a>\u001b[0m               loss\u001b[39m=\u001b[39mtf\u001b[39m.\u001b[39mkeras\u001b[39m.\u001b[39mlosses\u001b[39m.\u001b[39mBinaryCrossentropy(),\n\u001b[1;32m      <a href='vscode-notebook-cell://wsl%2Bubuntu/home/nash/Projects/voicechanger/src/training.ipynb#X11sdnNjb2RlLXJlbW90ZQ%3D%3D?line=3'>4</a>\u001b[0m               metrics\u001b[39m=\u001b[39m[tf\u001b[39m.\u001b[39mkeras\u001b[39m.\u001b[39mmetrics\u001b[39m.\u001b[39mBinaryAccuracy(),\n\u001b[1;32m      <a href='vscode-notebook-cell://wsl%2Bubuntu/home/nash/Projects/voicechanger/src/training.ipynb#X11sdnNjb2RlLXJlbW90ZQ%3D%3D?line=4'>5</a>\u001b[0m                        tf\u001b[39m.\u001b[39mkeras\u001b[39m.\u001b[39mmetrics\u001b[39m.\u001b[39mFalseNegatives()])\n\u001b[1;32m      <a href='vscode-notebook-cell://wsl%2Bubuntu/home/nash/Projects/voicechanger/src/training.ipynb#X11sdnNjb2RlLXJlbW90ZQ%3D%3D?line=5'>6</a>\u001b[0m \u001b[39mprint\u001b[39m(model\u001b[39m.\u001b[39msummary())\n\u001b[0;32m----> <a href='vscode-notebook-cell://wsl%2Bubuntu/home/nash/Projects/voicechanger/src/training.ipynb#X11sdnNjb2RlLXJlbW90ZQ%3D%3D?line=6'>7</a>\u001b[0m model\u001b[39m.\u001b[39;49mfit(x\u001b[39m=\u001b[39;49mX, y\u001b[39m=\u001b[39;49mX, epochs\u001b[39m=\u001b[39;49m\u001b[39m1\u001b[39;49m)\n",
      "File \u001b[0;32m~/.local/lib/python3.8/site-packages/keras/utils/traceback_utils.py:70\u001b[0m, in \u001b[0;36mfilter_traceback.<locals>.error_handler\u001b[0;34m(*args, **kwargs)\u001b[0m\n\u001b[1;32m     67\u001b[0m     filtered_tb \u001b[39m=\u001b[39m _process_traceback_frames(e\u001b[39m.\u001b[39m__traceback__)\n\u001b[1;32m     68\u001b[0m     \u001b[39m# To get the full stack trace, call:\u001b[39;00m\n\u001b[1;32m     69\u001b[0m     \u001b[39m# `tf.debugging.disable_traceback_filtering()`\u001b[39;00m\n\u001b[0;32m---> 70\u001b[0m     \u001b[39mraise\u001b[39;00m e\u001b[39m.\u001b[39mwith_traceback(filtered_tb) \u001b[39mfrom\u001b[39;00m \u001b[39mNone\u001b[39m\n\u001b[1;32m     71\u001b[0m \u001b[39mfinally\u001b[39;00m:\n\u001b[1;32m     72\u001b[0m     \u001b[39mdel\u001b[39;00m filtered_tb\n",
      "File \u001b[0;32m~/.local/lib/python3.8/site-packages/tensorflow/python/eager/execute.py:54\u001b[0m, in \u001b[0;36mquick_execute\u001b[0;34m(op_name, num_outputs, inputs, attrs, ctx, name)\u001b[0m\n\u001b[1;32m     52\u001b[0m \u001b[39mtry\u001b[39;00m:\n\u001b[1;32m     53\u001b[0m   ctx\u001b[39m.\u001b[39mensure_initialized()\n\u001b[0;32m---> 54\u001b[0m   tensors \u001b[39m=\u001b[39m pywrap_tfe\u001b[39m.\u001b[39mTFE_Py_Execute(ctx\u001b[39m.\u001b[39m_handle, device_name, op_name,\n\u001b[1;32m     55\u001b[0m                                       inputs, attrs, num_outputs)\n\u001b[1;32m     56\u001b[0m \u001b[39mexcept\u001b[39;00m core\u001b[39m.\u001b[39m_NotOkStatusException \u001b[39mas\u001b[39;00m e:\n\u001b[1;32m     57\u001b[0m   \u001b[39mif\u001b[39;00m name \u001b[39mis\u001b[39;00m \u001b[39mnot\u001b[39;00m \u001b[39mNone\u001b[39;00m:\n",
      "\u001b[0;31mInvalidArgumentError\u001b[0m: Graph execution error:\n\nDetected at node 'model_21/tf.reshape_77/Reshape' defined at (most recent call last):\n    File \"/usr/lib/python3.8/runpy.py\", line 194, in _run_module_as_main\n      return _run_code(code, main_globals, None,\n    File \"/usr/lib/python3.8/runpy.py\", line 87, in _run_code\n      exec(code, run_globals)\n    File \"/home/nash/.local/lib/python3.8/site-packages/ipykernel_launcher.py\", line 17, in <module>\n      app.launch_new_instance()\n    File \"/home/nash/.local/lib/python3.8/site-packages/traitlets/config/application.py\", line 846, in launch_instance\n      app.start()\n    File \"/home/nash/.local/lib/python3.8/site-packages/ipykernel/kernelapp.py\", line 712, in start\n      self.io_loop.start()\n    File \"/home/nash/.local/lib/python3.8/site-packages/tornado/platform/asyncio.py\", line 199, in start\n      self.asyncio_loop.run_forever()\n    File \"/usr/lib/python3.8/asyncio/base_events.py\", line 570, in run_forever\n      self._run_once()\n    File \"/usr/lib/python3.8/asyncio/base_events.py\", line 1859, in _run_once\n      handle._run()\n    File \"/usr/lib/python3.8/asyncio/events.py\", line 81, in _run\n      self._context.run(self._callback, *self._args)\n    File \"/home/nash/.local/lib/python3.8/site-packages/ipykernel/kernelbase.py\", line 504, in dispatch_queue\n      await self.process_one()\n    File \"/home/nash/.local/lib/python3.8/site-packages/ipykernel/kernelbase.py\", line 493, in process_one\n      await dispatch(*args)\n    File \"/home/nash/.local/lib/python3.8/site-packages/ipykernel/kernelbase.py\", line 400, in dispatch_shell\n      await result\n    File \"/home/nash/.local/lib/python3.8/site-packages/ipykernel/kernelbase.py\", line 724, in execute_request\n      reply_content = await reply_content\n    File \"/home/nash/.local/lib/python3.8/site-packages/ipykernel/ipkernel.py\", line 390, in do_execute\n      res = shell.run_cell(code, store_history=store_history, silent=silent)\n    File \"/home/nash/.local/lib/python3.8/site-packages/ipykernel/zmqshell.py\", line 528, in run_cell\n      return super().run_cell(*args, **kwargs)\n    File \"/home/nash/.local/lib/python3.8/site-packages/IPython/core/interactiveshell.py\", line 2863, in run_cell\n      result = self._run_cell(\n    File \"/home/nash/.local/lib/python3.8/site-packages/IPython/core/interactiveshell.py\", line 2909, in _run_cell\n      return runner(coro)\n    File \"/home/nash/.local/lib/python3.8/site-packages/IPython/core/async_helpers.py\", line 129, in _pseudo_sync_runner\n      coro.send(None)\n    File \"/home/nash/.local/lib/python3.8/site-packages/IPython/core/interactiveshell.py\", line 3106, in run_cell_async\n      has_raised = await self.run_ast_nodes(code_ast.body, cell_name,\n    File \"/home/nash/.local/lib/python3.8/site-packages/IPython/core/interactiveshell.py\", line 3309, in run_ast_nodes\n      if await self.run_code(code, result, async_=asy):\n    File \"/home/nash/.local/lib/python3.8/site-packages/IPython/core/interactiveshell.py\", line 3369, in run_code\n      exec(code_obj, self.user_global_ns, self.user_ns)\n    File \"/tmp/ipykernel_628/3825736322.py\", line 7, in <cell line: 7>\n      model.fit(x=X, y=X, epochs=1)\n    File \"/home/nash/.local/lib/python3.8/site-packages/keras/utils/traceback_utils.py\", line 65, in error_handler\n      return fn(*args, **kwargs)\n    File \"/home/nash/.local/lib/python3.8/site-packages/keras/engine/training.py\", line 1564, in fit\n      tmp_logs = self.train_function(iterator)\n    File \"/home/nash/.local/lib/python3.8/site-packages/keras/engine/training.py\", line 1160, in train_function\n      return step_function(self, iterator)\n    File \"/home/nash/.local/lib/python3.8/site-packages/keras/engine/training.py\", line 1146, in step_function\n      outputs = model.distribute_strategy.run(run_step, args=(data,))\n    File \"/home/nash/.local/lib/python3.8/site-packages/keras/engine/training.py\", line 1135, in run_step\n      outputs = model.train_step(data)\n    File \"/home/nash/.local/lib/python3.8/site-packages/keras/engine/training.py\", line 993, in train_step\n      y_pred = self(x, training=True)\n    File \"/home/nash/.local/lib/python3.8/site-packages/keras/utils/traceback_utils.py\", line 65, in error_handler\n      return fn(*args, **kwargs)\n    File \"/home/nash/.local/lib/python3.8/site-packages/keras/engine/training.py\", line 557, in __call__\n      return super().__call__(*args, **kwargs)\n    File \"/home/nash/.local/lib/python3.8/site-packages/keras/utils/traceback_utils.py\", line 65, in error_handler\n      return fn(*args, **kwargs)\n    File \"/home/nash/.local/lib/python3.8/site-packages/keras/engine/base_layer.py\", line 1097, in __call__\n      outputs = call_fn(inputs, *args, **kwargs)\n    File \"/home/nash/.local/lib/python3.8/site-packages/keras/utils/traceback_utils.py\", line 96, in error_handler\n      return fn(*args, **kwargs)\n    File \"/home/nash/.local/lib/python3.8/site-packages/keras/engine/functional.py\", line 510, in call\n      return self._run_internal_graph(inputs, training=training, mask=mask)\n    File \"/home/nash/.local/lib/python3.8/site-packages/keras/engine/functional.py\", line 667, in _run_internal_graph\n      outputs = node.layer(*args, **kwargs)\n    File \"/home/nash/.local/lib/python3.8/site-packages/keras/utils/traceback_utils.py\", line 65, in error_handler\n      return fn(*args, **kwargs)\n    File \"/home/nash/.local/lib/python3.8/site-packages/keras/engine/base_layer.py\", line 1097, in __call__\n      outputs = call_fn(inputs, *args, **kwargs)\n    File \"/home/nash/.local/lib/python3.8/site-packages/keras/utils/traceback_utils.py\", line 96, in error_handler\n      return fn(*args, **kwargs)\n    File \"/home/nash/.local/lib/python3.8/site-packages/keras/layers/core/tf_op_layer.py\", line 242, in _call_wrapper\n      return self._call_wrapper(*args, **kwargs)\n    File \"/home/nash/.local/lib/python3.8/site-packages/keras/layers/core/tf_op_layer.py\", line 279, in _call_wrapper\n      result = self.function(*args, **kwargs)\nNode: 'model_21/tf.reshape_77/Reshape'\nInput to reshape is a tensor with 16777216 values, but the requested shape requires a multiple of 1384448\n\t [[{{node model_21/tf.reshape_77/Reshape}}]] [Op:__inference_train_function_79118]"
     ]
    }
   ],
   "source": [
    "model = encoder_lstm_decoder(X[0].shape, 8)\n",
    "model.compile(optimizer=tf.keras.optimizers.Adam(learning_rate=1e-3),\n",
    "              loss=tf.keras.losses.BinaryCrossentropy(),\n",
    "              metrics=[tf.keras.metrics.BinaryAccuracy(),\n",
    "                       tf.keras.metrics.FalseNegatives()])\n",
    "print(model.summary())\n",
    "model.fit(x=X, y=X, epochs=1)\n"
   ]
  }
 ],
 "metadata": {
  "kernelspec": {
   "display_name": "Python 3.8.10 64-bit",
   "language": "python",
   "name": "python3"
  },
  "language_info": {
   "codemirror_mode": {
    "name": "ipython",
    "version": 3
   },
   "file_extension": ".py",
   "mimetype": "text/x-python",
   "name": "python",
   "nbconvert_exporter": "python",
   "pygments_lexer": "ipython3",
   "version": "3.8.10"
  },
  "orig_nbformat": 4,
  "vscode": {
   "interpreter": {
    "hash": "916dbcbb3f70747c44a77c7bcd40155683ae19c65e1c03b4aa3499c5328201f1"
   }
  }
 },
 "nbformat": 4,
 "nbformat_minor": 2
}
